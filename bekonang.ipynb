{
 "cells": [
  {
   "cell_type": "code",
   "execution_count": 64,
   "metadata": {},
   "outputs": [
    {
     "data": {
      "text/html": [
       "<div>\n",
       "<style scoped>\n",
       "    .dataframe tbody tr th:only-of-type {\n",
       "        vertical-align: middle;\n",
       "    }\n",
       "\n",
       "    .dataframe tbody tr th {\n",
       "        vertical-align: top;\n",
       "    }\n",
       "\n",
       "    .dataframe thead th {\n",
       "        text-align: right;\n",
       "    }\n",
       "</style>\n",
       "<table border=\"1\" class=\"dataframe\">\n",
       "  <thead>\n",
       "    <tr style=\"text-align: right;\">\n",
       "      <th></th>\n",
       "      <th>id</th>\n",
       "      <th>Gender</th>\n",
       "      <th>Bidang</th>\n",
       "      <th>Status</th>\n",
       "      <th>Pendidikan</th>\n",
       "      <th>Gaji</th>\n",
       "      <th>Usia</th>\n",
       "      <th>Lama_kerja</th>\n",
       "    </tr>\n",
       "  </thead>\n",
       "  <tbody>\n",
       "    <tr>\n",
       "      <th>0</th>\n",
       "      <td>1</td>\n",
       "      <td>PRIA</td>\n",
       "      <td>MARKETING</td>\n",
       "      <td>BELUM MENIKAH</td>\n",
       "      <td>SMU</td>\n",
       "      <td>138.00</td>\n",
       "      <td>24</td>\n",
       "      <td>4</td>\n",
       "    </tr>\n",
       "    <tr>\n",
       "      <th>1</th>\n",
       "      <td>2</td>\n",
       "      <td>WANITA</td>\n",
       "      <td>MARKETING</td>\n",
       "      <td>BELUM MENIKAH</td>\n",
       "      <td>SMU</td>\n",
       "      <td>294.00</td>\n",
       "      <td>22</td>\n",
       "      <td>4</td>\n",
       "    </tr>\n",
       "    <tr>\n",
       "      <th>2</th>\n",
       "      <td>3</td>\n",
       "      <td>PRIA</td>\n",
       "      <td>AKUNTANSI</td>\n",
       "      <td>MENIKAH</td>\n",
       "      <td>SARJANA</td>\n",
       "      <td>378.00</td>\n",
       "      <td>22</td>\n",
       "      <td>6</td>\n",
       "    </tr>\n",
       "    <tr>\n",
       "      <th>3</th>\n",
       "      <td>4</td>\n",
       "      <td>PRIA</td>\n",
       "      <td>AKUNTANSI</td>\n",
       "      <td>MENIKAH</td>\n",
       "      <td>AKADEMI</td>\n",
       "      <td>438.00</td>\n",
       "      <td>23</td>\n",
       "      <td>5</td>\n",
       "    </tr>\n",
       "    <tr>\n",
       "      <th>4</th>\n",
       "      <td>5</td>\n",
       "      <td>WANITA</td>\n",
       "      <td>AKUNTANSI</td>\n",
       "      <td>BELUM MENIKAH</td>\n",
       "      <td>SARJANA</td>\n",
       "      <td>690.00</td>\n",
       "      <td>25</td>\n",
       "      <td>7</td>\n",
       "    </tr>\n",
       "  </tbody>\n",
       "</table>\n",
       "</div>"
      ],
      "text/plain": [
       "   id  Gender     Bidang         Status Pendidikan    Gaji  Usia  Lama_kerja\n",
       "0   1    PRIA  MARKETING  BELUM MENIKAH        SMU  138.00    24           4\n",
       "1   2  WANITA  MARKETING  BELUM MENIKAH        SMU  294.00    22           4\n",
       "2   3    PRIA  AKUNTANSI        MENIKAH    SARJANA  378.00    22           6\n",
       "3   4    PRIA  AKUNTANSI        MENIKAH    AKADEMI  438.00    23           5\n",
       "4   5  WANITA  AKUNTANSI  BELUM MENIKAH    SARJANA  690.00    25           7"
      ]
     },
     "execution_count": 64,
     "metadata": {},
     "output_type": "execute_result"
    }
   ],
   "source": [
    "import pandas as pd\n",
    "fileA=\"F:\\dtsbd\\koding\\personalia.csv\"\n",
    "df = pd.read_csv(fileA)\n",
    "df.head()"
   ]
  },
  {
   "cell_type": "code",
   "execution_count": 10,
   "metadata": {},
   "outputs": [
    {
     "data": {
      "image/png": "[encoded data removed]",
      "text/plain": [
       "<Figure size 432x288 with 4 Axes>"
      ]
     },
     "metadata": {
      "needs_background": "light"
     },
     "output_type": "display_data"
    }
   ],
   "source": [
    "import matplotlib.pyplot as plt\n",
    "bd = data.groupby ('Usia')['id'].nunique()\n",
    "fig, axes = plt.subplots(nrows=2, ncols=2)\n",
    "fig.suptitle (\"plot Usia\", fontsize=14)\n",
    "fig1 = bd.plot.bar(ax=axes[0,0], title = 'Bar')\n",
    "fig2 = bd.plot.pie(ax=axes[0,1], title = 'Pie')\n",
    "fig3 = bd.plot.hist(ax=axes[1,0], title = 'Histogram')\n",
    "fig4 = bd.plot.box(ax=axes[1,1], title = 'Boxplot')\n",
    "\n",
    "plt.show()"
   ]
  },
  {
   "cell_type": "markdown",
   "metadata": {},
   "source": [
    "# Grafik variabel bidang"
   ]
  },
  {
   "cell_type": "markdown",
   "metadata": {},
   "source": [
    "jumlah orang berdasarkan pemetaan pada tiap bidang:"
   ]
  },
  {
   "cell_type": "markdown",
   "metadata": {},
   "source": [
    "akuntansi 15 orang\n",
    "<p> marketing 12 orang\n",
    "<p> produksi 18 orang\n",
    "<p> umum 15 orang\n",
    "   "
   ]
  },
  {
   "cell_type": "code",
   "execution_count": 24,
   "metadata": {},
   "outputs": [
    {
     "data": {
      "image/png": "[encoded data removed]",
      "text/plain": [
       "<Figure size 432x288 with 1 Axes>"
      ]
     },
     "metadata": {
      "needs_background": "light"
     },
     "output_type": "display_data"
    }
   ],
   "source": [
    "import matplotlib.pyplot as plot\n",
    "import numpy as np\n",
    "subjects = ['Akuntansi', 'Marketing', 'Produksi', 'Umum']\n",
    "marks = [15,12,18,15]\n",
    "m = np.arange(len(subjects))\n",
    "plt.bar(m,marks)\n",
    "plt.xlabel('Bidang')\n",
    "plt.ylabel('Jumlah Orang')\n",
    "plt.xticks(m, subjects)\n",
    "plt.title('Jumlah Orang pada tiap bidang')\n",
    "\n",
    "plt.show()"
   ]
  },
  {
   "cell_type": "markdown",
   "metadata": {},
   "source": [
    "# Grafik usia berdasarkan Gender"
   ]
  },
  {
   "cell_type": "code",
   "execution_count": 84,
   "metadata": {},
   "outputs": [
    {
     "name": "stdout",
     "output_type": "stream",
     "text": [
      "   Gender  Usia\n",
      "0    PRIA    24\n",
      "1    PRIA    22\n",
      "2    PRIA    23\n",
      "3    PRIA    27\n",
      "4    PRIA    30\n",
      "5    PRIA    31\n",
      "6    PRIA    31\n",
      "7    PRIA    32\n",
      "8    PRIA    28\n",
      "9    PRIA    30\n",
      "10   PRIA    34\n",
      "11   PRIA    34\n",
      "12   PRIA    21\n",
      "13   PRIA    21\n",
      "14   PRIA    22\n",
      "15   PRIA    23\n",
      "16   PRIA    27\n",
      "17   PRIA    28\n",
      "18   PRIA    31\n",
      "19   PRIA    31\n",
      "20   PRIA    22\n",
      "21   PRIA    23\n",
      "22   PRIA    23\n",
      "23   PRIA    23\n",
      "24   PRIA    27\n",
      "25   PRIA    27\n",
      "26   PRIA    27\n",
      "27   PRIA    27\n",
      "28   PRIA    29\n",
      "29   PRIA    29\n",
      "30   PRIA    31\n",
      "31   PRIA    32\n",
      "32   PRIA    34\n"
     ]
    }
   ],
   "source": [
    "from sqlalchemy import create_engine\n",
    "from pandas.io import sql\n",
    "import pandas as pd\n",
    "import matplotlib.pyplot as plt\n",
    "\n",
    "data = pd.read_csv(\"F:\\dtsbd\\koding\\personalia.csv\")\n",
    "engine = create_engine('sqlite:///:memory:')\n",
    "data.to_sql('data_table', engine)\n",
    "\n",
    "hasil_pria = pd.read_sql_query('SELECT Gender, Usia FROM data_table WHERE Gender = (?)',engine, params = [('PRIA')])\n",
    "hasil_wanita = pd.read_sql_query('SELECT Gender, Usia FROM data_table WHERE Gender = (?)',engine, params = [('WANITA')])\n",
    "print (hasil_pria)\n",
    "#print (hasil_wanita)\n"
   ]
  },
  {
   "cell_type": "code",
   "execution_count": 109,
   "metadata": {},
   "outputs": [
    {
     "data": {
      "image/png": "[encoded data removed]",
      "text/plain": [
       "<Figure size 432x288 with 1 Axes>"
      ]
     },
     "metadata": {
      "needs_background": "light"
     },
     "output_type": "display_data"
    }
   ],
   "source": [
    "#Usia dengan lama kerja\n",
    "import matplotlib.pyplot as plt\n",
    "\n",
    "fileA=\"F:\\dtsbd\\koding\\personalia.csv\"\n",
    "df = pd.read_csv(fileA)\n",
    "usiaA = df['Usia']\n",
    "LK = df['Lama_kerja']\n",
    "#plt.bar(usiaA, GenderA, edgecolors='r')\n",
    "plt.bar(usiaA,LK)\n",
    "plt.xlabel('Usia')\n",
    "plt.ylabel('Lama Kerja')\n",
    "plt.title('perbandingan Usia dengan lama kerja')\n",
    "plt.show()"
   ]
  },
  {
   "cell_type": "code",
   "execution_count": 125,
   "metadata": {},
   "outputs": [
    {
     "data": {
      "image/png": "[encoded data removed]",
      "text/plain": [
       "<Figure size 432x288 with 1 Axes>"
      ]
     },
     "metadata": {
      "needs_background": "light"
     },
     "output_type": "display_data"
    }
   ],
   "source": [
    "#Gaji Berdasarkan Usia\n",
    "import matplotlib.pyplot as plt\n",
    "\n",
    "fileA=\"F:\\dtsbd\\koding\\personalia.csv\"\n",
    "df = pd.read_csv(fileA)\n",
    "usiaA = df['Usia']\n",
    "GajiA = df['Gaji']\n",
    "#plt.bar(usiaA, GenderA, edgecolors='r')\n",
    "plt.barh(usiaA, GajiA,)\n",
    "plt.xlabel('Gaji')\n",
    "plt.ylabel('Usia')\n",
    "plt.title('pendapatan berdasarkan Usia')\n",
    "plt.show()"
   ]
  },
  {
   "cell_type": "code",
   "execution_count": 143,
   "metadata": {},
   "outputs": [
    {
     "data": {
      "image/png": "[encoded data removed]",
      "text/plain": [
       "<Figure size 432x288 with 1 Axes>"
      ]
     },
     "metadata": {
      "needs_background": "light"
     },
     "output_type": "display_data"
    }
   ],
   "source": [
    "#Gaji Berdasarkan Usia\n",
    "import matplotlib.pyplot as plt\n",
    "\n",
    "fileA=\"F:\\dtsbd\\koding\\personalia.csv\"\n",
    "df = pd.read_csv(fileA)\n",
    "usiaA = df['Usia']\n",
    "BidangA = df['Bidang']\n",
    "#plt.bar(usiaA, GenderA, edgecolors='r')\n",
    "plt.barh(usiaA, BidangA)\n",
    "plt.xlabel('Gaji')\n",
    "plt.ylabel('Usia')\n",
    "plt.title('Bidang berdasarkan Usia')\n",
    "plt.show()"
   ]
  },
  {
   "cell_type": "markdown",
   "metadata": {},
   "source": [
    "#  mean, dan Standard Deviasi untuk variabel salary, usia "
   ]
  },
  {
   "cell_type": "code",
   "execution_count": 139,
   "metadata": {},
   "outputs": [
    {
     "data": {
      "text/plain": [
       "624.7033333333333"
      ]
     },
     "execution_count": 139,
     "metadata": {},
     "output_type": "execute_result"
    }
   ],
   "source": [
    "import pandas as pd\n",
    "import numpy as np\n",
    "\n",
    "fileA=\"F:\\dtsbd\\koding\\personalia.csv\"\n",
    "df = pd.read_csv(fileA)\n",
    "\n",
    "# mean of salary the dataframe\n",
    "df.loc[:,\"Gaji\"].mean()"
   ]
  },
  {
   "cell_type": "code",
   "execution_count": 140,
   "metadata": {},
   "outputs": [
    {
     "data": {
      "text/plain": [
       "27.266666666666666"
      ]
     },
     "execution_count": 140,
     "metadata": {},
     "output_type": "execute_result"
    }
   ],
   "source": [
    "#Mean Usia\n",
    "df.loc[:,\"Usia\"].mean()"
   ]
  },
  {
   "cell_type": "code",
   "execution_count": 142,
   "metadata": {},
   "outputs": [
    {
     "data": {
      "text/plain": [
       "244.2304482514564"
      ]
     },
     "execution_count": 142,
     "metadata": {},
     "output_type": "execute_result"
    }
   ],
   "source": [
    "#Standard Deviasi\n",
    "df.loc[:,\"Gaji\"].std()\n"
   ]
  },
  {
   "cell_type": "code",
   "execution_count": 141,
   "metadata": {},
   "outputs": [
    {
     "data": {
      "text/plain": [
       "3.9267300696060103"
      ]
     },
     "execution_count": 141,
     "metadata": {},
     "output_type": "execute_result"
    }
   ],
   "source": [
    "#standard deviasi Usia\n",
    "df.loc[:,\"Usia\"].std()"
   ]
  },
  {
   "cell_type": "code",
   "execution_count": null,
   "metadata": {},
   "outputs": [],
   "source": []
  }
 ],
 "metadata": {
  "kernelspec": {
   "display_name": "Python 3",
   "language": "python",
   "name": "python3"
  },
  "language_info": {
   "codemirror_mode": {
    "name": "ipython",
    "version": 3
   },
   "file_extension": ".py",
   "mimetype": "text/x-python",
   "name": "python",
   "nbconvert_exporter": "python",
   "pygments_lexer": "ipython3",
   "version": "3.7.3"
  }
 },
 "nbformat": 4,
 "nbformat_minor": 2
}
