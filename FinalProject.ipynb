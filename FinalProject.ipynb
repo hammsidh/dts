{
 "cells": [
  {
   "cell_type": "markdown",
   "metadata": {},
   "source": [
    "# Final Project Big Data Analytics"
   ]
  },
  {
   "cell_type": "markdown",
   "metadata": {},
   "source": [
    "Buatlah analisis terhadap dataset yang Anda dapatkan dari internet.\n",
    "\n",
    "Keterangan: File dataset bisa dicari di <a href=\"http://kaggle.com\">Kaggle.com</a> atau di <a href=\"https://archive.ics.uci.edu/ml/index.php\">UCI Machine Learning</a>"
   ]
  },
  {
   "cell_type": "markdown",
   "metadata": {},
   "source": [
    "Prosedur analisis yang dilakukan adalah sbb:\n",
    "1. Berdasarkan dataset yang dipilih, buatlah Scatter Plot untuk masing-masing features [<b>Score: 15</b>]\n",
    "2. Berdasarkan pola data dari scatter plot (No. 1), pilih 2 features yang memiliki dugaan kuat ada korelasi. Narasikan alasannya! [<b>Score: 10</b>]\n",
    "3. Buatlah statistik deskriptif dari beberapa 2 features yang dipilih. Berikan narasi terhadap statistik tersebut [<b>Score: 20</b>]\n",
    "4. Dari 2 features yang dipilih tersebut (No. 3), buatlah analisis model regresi (linear atau nonlinear). Jenis model regresi yang dipilih harus menyesuaikan pola sebaran data dari scatter plot. Model yang telah dibuat harus ditunjukkan secara visual dg grafik, serta tunjukkan tingkat keakuratannya (bisa menggunakan sembarang <a href=\"suplemen/ModelEvaluation-example.ipynb\">metrik</a>) [<b>Score: 25</b>]\n",
    "    \n",
    "    Sebagai bahan referensi:\n",
    "    * Contoh analisis model regresi <a href=\"suplemen/LinearRegression-example.ipynb\">linear</a> \n",
    "    * Contoh analisis model regresi <a href=\"suplemen/NonLinearRegression-example.ipynb\">nonlinear</a> atau <a href=\"suplemen/PolynomialRegression-example.ipynb\">polinomial</a>\n",
    "5. Terhadap dataset yang diperoleh, lakukan pula analisis berikutnya (pilih salah satu): [<b>Score: 30</b>]\n",
    "    * Association (lihat <a href=\"suplemen/AssociationRule-example.ipynb\">contoh</a>)\n",
    "    * Clustering (lihat <a href=\"https://mubaris.com/posts/kmeans-clustering/\">contoh</a>)\n",
    "    * Classification (lihat <a href=\"https://towardsdatascience.com/solving-a-simple-classification-problem-with-python-fruits-lovers-edition-d20ab6b071d2\">contoh</a>)\n",
    "    \n",
    "    Keterangan:\n",
    "    Problem statement yang dipilih untuk analisis di atas bisa sembarang."
   ]
  },
  {
   "cell_type": "markdown",
   "metadata": {},
   "source": [
    "## Ketentuan Pengerjaan Project"
   ]
  },
  {
   "cell_type": "markdown",
   "metadata": {},
   "source": [
    "* File dataset yang digunakan harus dideskripsikan (data tentang apa dsb), dan disebutkan URL sumber dari mana mendapatkannya\n",
    "* Penyimpanan file dataset dan komputasi analisisnya (dengan Jupyter Notebook) harus menggunakan layanan AWS (S3 dan Sagemaker)\n",
    "* Laporan project dibuat dengan Jupyter Notebook dan di setiap langkahnya harus diberikan narasi (lihat <a href=\"https://github.com/rosihanari/datascience/blob/master/project01.ipynb\">contoh</a>)\n",
    "* Untuk setiap analisis yang dilakukan harus disebutkan 'problem statement' nya\n",
    "* Sebelum proses analisis data, terlebih dahulu harus dilakukan langkah pre-processing (data cleaning dan data preparing) jika diperlukan\n",
    "* Durasi pengerjaan project mulai tanggal 22/08/2019 s/d 25/08/2019. Selama dalam waktu pelatihan DTS, kerjakan project ini di lab. Di luar pelatihan DTS, project bisa dilanjutkan di rumah/kost \n",
    "* File project Jupyter Notebook yang dihasilkan jika sudah selesai, maka diupload ke Github (diset ke public) untuk portofolio\n",
    "* Hasil project dipresentasikan pada tanggal 26-27/08/2019 "
   ]
  }
 ],
 "metadata": {
  "kernelspec": {
   "display_name": "Python 3",
   "language": "python",
   "name": "python3"
  },
  "language_info": {
   "codemirror_mode": {
    "name": "ipython",
    "version": 3
   },
   "file_extension": ".py",
   "mimetype": "text/x-python",
   "name": "python",
   "nbconvert_exporter": "python",
   "pygments_lexer": "ipython3",
   "version": "3.7.0"
  }
 },
 "nbformat": 4,
 "nbformat_minor": 2
}
